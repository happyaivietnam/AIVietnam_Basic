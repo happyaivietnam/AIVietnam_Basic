{
 "cells": [
  {
   "cell_type": "code",
   "execution_count": 51,
   "metadata": {},
   "outputs": [
    {
     "name": "stdout",
     "output_type": "stream",
     "text": [
      "load_data\n",
      "[[1000, 12, 1000, 5, 7], [12, 1000, 14, 1000, 18], [1000, 14, 1000, 6, 19], [5, 1000, 6, 1000, 2], [7, 18, 19, 2, 1000]]\n"
     ]
    }
   ],
   "source": [
    "# Phát biểu bài toán: có 5 thành phố được đánh số từ 1 đến 5 được nối với nhau\n",
    "# một người muốn đi từ 1 thành phố, qua tất cả các thành phố khác và trở về thành phố ban đầu\n",
    "# với chi phí nhỏ nhất. Hãy thiết lập tuyến đường cho người này.\n",
    "\n",
    "# dữ liệu mô tả các thành phố và chi phí giữa chúng là một mảng 2 chiều\n",
    "# dòng và cột đầu tiên là tên các thành phố\n",
    "# các giá trị còn lại biểu diễn chi phí đi lại của hai thành phố tương ứng\n",
    "# với những thành phố không nối trực tiếp với nhau, ta cho chi phí là một số lớn\n",
    "\n",
    "import random\n",
    "\n",
    "n = 5   # so luong thanh pho\n",
    "m = 100  # so luong ca the trong quan the\n",
    "n_generations = 300 # so vong doi\n",
    "losses = []  # de ve bieu de losses\n",
    "\n",
    "# load data\n",
    "def load_data():\n",
    "    map = []\n",
    "    file = open('data_route.txt', 'r')\n",
    "    lines = file.readlines()\n",
    "    \n",
    "    # bỏ header\n",
    "    for i in range(1, len(lines)):\n",
    "        strings = lines[i].split(',')\n",
    "        \n",
    "        # bỏ cột đầu tiên\n",
    "        prices = [int(s.strip()) for s in strings[1:]]\n",
    "        map.append(prices)\n",
    "    file.close()\n",
    "    return map\n",
    "\n",
    "map = load_data()\n",
    "print('load_data')\n",
    "print(map)\n",
    "\n",
    "\n",
    "# tao individual\n",
    "def create_individual():\n",
    "    # list cac thanh pho    \n",
    "    return [random.randint(1,n) for _ in range(n)]\n",
    "\n",
    "# tinh loss\n",
    "def compute_loss(individual):\n",
    "    i = 0\n",
    "    price = 0\n",
    "    while i < n-1:\n",
    "        a = individual[i] - 1\n",
    "        b = individual[i+1] - 1\n",
    "        price += map[a][b]\n",
    "        i += 1\n",
    "    # cong voi quang duong tp cuoi ve tp dau\n",
    "    start = individual[0] - 1\n",
    "    finish = individual[n-1] - 1\n",
    "    price += map[finish][start]\n",
    "    \n",
    "    # kiểm tra xem individual có chứa hết thành phố không\n",
    "    s = set(individual)\n",
    "    price += ((n-len(s)) * 1000)\n",
    "    \n",
    "    return price\n",
    "\n",
    "\n",
    "# tinh fitness\n",
    "def compute_fitness(individual):\n",
    "    loss = compute_loss(individual)\n",
    "    return 1 / (1 + loss)\n",
    "\n",
    "# chon loc\n",
    "def selection(sorted_population):\n",
    "    index1 = random.randint(0, n-2)\n",
    "    while True:\n",
    "        index2 = random.randint(0, n-2)\n",
    "        if index2 != index1:\n",
    "            break\n",
    "    individual = sorted_population[index1]\n",
    "    if index2 > index1:\n",
    "        individual = sorted_population[index2]\n",
    "    return individual\n",
    "\n",
    "# lai ghep:\n",
    "def crossover(individual1, individual2, crossover_rate = 0.9):\n",
    "    individual1_new = individual1.copy()\n",
    "    individual2_new = individual2.copy()\n",
    "    \n",
    "    for i in range(n):\n",
    "        if random.random() < crossover_rate:\n",
    "            individual1_new[i] = individual2[i]\n",
    "            individual2_new[i] = individual1[i]            \n",
    "    \n",
    "    return individual1_new, individual2_new\n",
    "\n",
    "# dot bien\n",
    "def mutate(individual, mutation_rate = 0.05):\n",
    "    individual_m = individual.copy()\n",
    "    \n",
    "    for i in range(n):\n",
    "        if random.random() < mutation_rate:\n",
    "            individual_m[i] = random.randint(1,n)\n",
    "        \n",
    "    return individual_m\n",
    "\n",
    "# tao quan the moi\n",
    "def create_new_population(soted_old_population):\n",
    "    # luu vao losses\n",
    "    losses.append(compute_loss(sorted_old_population[-1]))\n",
    "    \n",
    "    # in cac gia tri tot nhat qua tung doi\n",
    "    # print(losses[-1])\n",
    "    new_population = []\n",
    "    while len(new_population) < m-2:\n",
    "        # chon loc\n",
    "        individual1 = selection(sorted_old_population)\n",
    "        individual2 = selection(sorted_old_population)\n",
    "\n",
    "        # lai ghep\n",
    "        individual_c1, individual_c2 = crossover(individual1, individual2)\n",
    "\n",
    "        # dot bien\n",
    "        individual_m1 = mutate(individual_c1)\n",
    "        individual_m2 = mutate(individual_c2)\n",
    "    \n",
    "        # cho vao quan the moi\n",
    "        new_population.append(individual_m1)\n",
    "        new_population.append(individual_m2)\n",
    "    \n",
    "    # cho 2 con dep nhat cua quan the cu vao quan the moi\n",
    "    new_population.append(sorted_old_population[-1])\n",
    "    new_population.append(sorted_old_population[-2])\n",
    "\n",
    "    return new_population\n",
    "\n",
    "# tao quan the ban dau\n",
    "population = [create_individual() for _ in range(m)]\n",
    "\n",
    "for _ in range(n_generations):\n",
    "    sorted_old_population = sorted(population, key = compute_fitness)\n",
    "    population = create_new_population(sorted_old_population)"
   ]
  },
  {
   "cell_type": "code",
   "execution_count": 52,
   "metadata": {},
   "outputs": [
    {
     "data": {
      "image/png": "[encoded data removed]",
      "text/plain": [
       "<matplotlib.figure.Figure at 0x7f2c8cbac5f8>"
      ]
     },
     "metadata": {
      "needs_background": "light"
     },
     "output_type": "display_data"
    }
   ],
   "source": [
    "# bieu do su bien thien cua loss qua tung doi\n",
    "import matplotlib.pyplot as plt\n",
    "plt.plot(losses)\n",
    "plt.xlabel('generation')\n",
    "plt.ylabel('loss')\n",
    "plt.show()"
   ]
  },
  {
   "cell_type": "code",
   "execution_count": 53,
   "metadata": {},
   "outputs": [
    {
     "name": "stdout",
     "output_type": "stream",
     "text": [
      "duong di ngan nhat:  [4, 3, 2, 1, 5, 4] chi phi:  41\n"
     ]
    }
   ],
   "source": [
    "# hien thi tuyen duong ngan nhat\n",
    "route_min = sorted_old_population[-1]\n",
    "route_min.append(sorted_old_population[-1][0])\n",
    "print('duong di ngan nhat: ', route_min, 'chi phi: ', losses[-1])"
   ]
  }
 ],
 "metadata": {
  "kernelspec": {
   "display_name": "Python 3",
   "language": "python",
   "name": "python3"
  },
  "language_info": {
   "codemirror_mode": {
    "name": "ipython",
    "version": 3
   },
   "file_extension": ".py",
   "mimetype": "text/x-python",
   "name": "python",
   "nbconvert_exporter": "python",
   "pygments_lexer": "ipython3",
   "version": "3.6.7"
  }
 },
 "nbformat": 4,
 "nbformat_minor": 2
}
